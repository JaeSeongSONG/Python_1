{
 "cells": [
  {
   "cell_type": "code",
   "execution_count": 2,
   "metadata": {},
   "outputs": [
    {
     "data": {
      "text/plain": [
       "[]"
      ]
     },
     "execution_count": 2,
     "metadata": {},
     "output_type": "execute_result"
    }
   ],
   "source": [
    "# 파이썬 폴더 리스트 모듈\n",
    "# 파일 = 파일명.확장자\n",
    "\n",
    "#  현재 py 코드가저장된 경로의 모든 파일을 불러오자\n",
    "import os, glob\n",
    "\n",
    "filter(os.path.isdir,glob.glob(\"./*\")) # glob은 경로까지 함께 검색하는 점에서 listdir과 다름\n",
    "dataList = glob.glob(\"./*\") # 카멜표기법\n",
    "\n",
    "\n",
    "# 폴더와 파일이 같이 있을때, 그중 폴더만 리스트로 하고자한다면\n",
    "# dataList의 형식이 ./폴더명, ./파일명.확장자로 되어 있어서 그 중 맨 앞의 ./를 제외한 자료에서 \n",
    "folderList = list()\n",
    "for x in dataList: # 객체할당\n",
    "    if '.' not in x[2:]: # 맨앞의 ./를 제외한 자료에 .이 없다면 폴더로 인식\n",
    "        folderList.append(x)\n",
    "\n",
    "# 폴더와 파일중에 폴더만 가져와서 새론운 폴더 이름으로 복사하겠다\n",
    "\n",
    "for folderName in folderList:\n",
    "    newName = folderName + '복사본'\n",
    "    shutil.copytree(folderName, newName)"
   ]
  },
  {
   "cell_type": "code",
   "execution_count": 12,
   "metadata": {},
   "outputs": [
    {
     "data": {
      "text/plain": [
       "['C:/$WinREAgent',\n",
       " 'C:/3DP',\n",
       " 'C:/app',\n",
       " 'C:/BIOS',\n",
       " 'C:/DB',\n",
       " 'C:/DEV',\n",
       " 'C:/Documents and Settings',\n",
       " 'C:/Download',\n",
       " 'C:/DRIVER',\n",
       " 'C:/Drivers',\n",
       " 'C:/END',\n",
       " 'C:/Hangame',\n",
       " 'C:/HNC',\n",
       " 'C:/Intel',\n",
       " 'C:/IntelOptaneData',\n",
       " 'C:/KMPlayer',\n",
       " 'C:/MSOCache',\n",
       " 'C:/NewFolder',\n",
       " 'C:/Nexon',\n",
       " 'C:/NIA',\n",
       " 'C:/OneDriveTemp',\n",
       " 'C:/PerfLogs',\n",
       " 'C:/pic',\n",
       " 'C:/Program Files',\n",
       " 'C:/Program Files (x86)',\n",
       " 'C:/ProgramData',\n",
       " 'C:/Recovery',\n",
       " 'C:/Sources',\n",
       " 'C:/System Volume Information',\n",
       " 'C:/Temp',\n",
       " 'C:/Users',\n",
       " 'C:/uTorrent_221Build25534',\n",
       " 'C:/Windows',\n",
       " 'C:/XecureSSL',\n",
       " 'C:/길벗컴활1급(C드라이브저장)',\n",
       " 'C:/$WinREAgent',\n",
       " 'C:/3DP',\n",
       " 'C:/app',\n",
       " 'C:/BIOS',\n",
       " 'C:/DB',\n",
       " 'C:/DEV',\n",
       " 'C:/Documents and Settings',\n",
       " 'C:/Download',\n",
       " 'C:/DRIVER',\n",
       " 'C:/Drivers',\n",
       " 'C:/END',\n",
       " 'C:/Hangame',\n",
       " 'C:/HNC',\n",
       " 'C:/Intel',\n",
       " 'C:/IntelOptaneData',\n",
       " 'C:/KMPlayer',\n",
       " 'C:/MSOCache',\n",
       " 'C:/NewFolder',\n",
       " 'C:/Nexon',\n",
       " 'C:/NIA',\n",
       " 'C:/OneDriveTemp',\n",
       " 'C:/PerfLogs',\n",
       " 'C:/pic',\n",
       " 'C:/Program Files',\n",
       " 'C:/Program Files (x86)',\n",
       " 'C:/ProgramData',\n",
       " 'C:/Recovery',\n",
       " 'C:/Sources',\n",
       " 'C:/System Volume Information',\n",
       " 'C:/Temp',\n",
       " 'C:/Users',\n",
       " 'C:/uTorrent_221Build25534',\n",
       " 'C:/Windows',\n",
       " 'C:/XecureSSL',\n",
       " 'C:/길벗컴활1급(C드라이브저장)']"
      ]
     },
     "execution_count": 12,
     "metadata": {},
     "output_type": "execute_result"
    }
   ],
   "source": [
    "for x in dataList:\n",
    "    if len(x.split('.')) == 1:\n",
    "        folderList.append(x)\n",
    "\n",
    "folderList"
   ]
  },
  {
   "cell_type": "code",
   "execution_count": 3,
   "metadata": {},
   "outputs": [],
   "source": [
    "#  파이썬 폴더 복사\n",
    "import shutil\n",
    "\n",
    "# for folderName in folderList:\n",
    "#     newName = folderName + '복사본'\n",
    "#     shutil.copytree(folderName, newName) # 원본, 복사되는 이름(새로생김)\n",
    "                                           # 변수로 치환하는것이 좋음"
   ]
  },
  {
   "cell_type": "code",
   "execution_count": 22,
   "metadata": {},
   "outputs": [
    {
     "name": "stdout",
     "output_type": "stream",
     "text": [
      "file_list: ['$Recycle.Bin', '$WinREAgent', '.CDN', '.rnd', '3DP', 'agentlog.txt', 'app', 'AVScanner.ini', 'BIOS', 'Config.Msi', 'CrossEX.sig', 'DB', 'DEV', 'Documents and Settings', 'Download', 'DRIVER', 'Drivers', 'DumpStack.log', 'DumpStack.log.tmp', 'END', 'Hangame', 'hiberfil.sys', 'HNC', 'Intel', 'IntelOptaneData', 'KMPlayer', 'kr.co.raon.touchenex.firefox.json', 'kr.co.raon.touchenex.json', 'msdia80.dll', 'MSOCache', 'NewFolder', 'Nexon', 'NIA', 'OneDriveTemp', 'pagefile.sys', 'PerfLogs', 'pic', 'platform-tools_r31.0.3-windows', 'Program Files', 'Program Files (x86)', 'ProgramData', 'Recovery', 'RImgOcx.log', 'Sources', 'swapfile.sys', 'System Volume Information', 'Temp', 'Users', 'uTorrent_221Build25534', 'Windows', 'Windows.old', 'XecureSSL', '가전판매내역.accdb', '길벗컴활1급(C드라이브저장)']\n"
     ]
    }
   ],
   "source": [
    "import os\n",
    "\n",
    "path = \"C:/\"\n",
    "file_list = os.listdir(path)\n",
    "\n",
    "print (\"file_list: {}\".format(file_list))"
   ]
  },
  {
   "cell_type": "code",
   "execution_count": 26,
   "metadata": {},
   "outputs": [
    {
     "name": "stdout",
     "output_type": "stream",
     "text": [
      "file_list_py: []\n"
     ]
    }
   ],
   "source": [
    "import glob\n",
    "\n",
    "path = \"C:\\Sources\\StudyPython\\day1\"\n",
    "file_list = glob.glob(path)\n",
    "file_list_py = [file for file in file_list if file.endswith(\".py\")]\n",
    "\n",
    "print (\"file_list_py: {}\".format(file_list_py))"
   ]
  },
  {
   "cell_type": "code",
   "execution_count": null,
   "metadata": {},
   "outputs": [],
   "source": []
  }
 ],
 "metadata": {
  "interpreter": {
   "hash": "e5bc2cf9d9a3d85fb4b9cf5c2acdd222f933ac2e5b2df75a3f82eb3e684a5541"
  },
  "kernelspec": {
   "display_name": "Python 3.10.2 64-bit",
   "language": "python",
   "name": "python3"
  },
  "language_info": {
   "codemirror_mode": {
    "name": "ipython",
    "version": 3
   },
   "file_extension": ".py",
   "mimetype": "text/x-python",
   "name": "python",
   "nbconvert_exporter": "python",
   "pygments_lexer": "ipython3",
   "version": "3.10.2"
  },
  "orig_nbformat": 4
 },
 "nbformat": 4,
 "nbformat_minor": 2
}
