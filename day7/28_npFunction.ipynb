{
 "cells": [
  {
   "cell_type": "code",
   "execution_count": 19,
   "metadata": {},
   "outputs": [
    {
     "data": {
      "text/plain": [
       "array([[0., 0., 0., 0.],\n",
       "       [0., 0., 0., 0.],\n",
       "       [0., 0., 0., 0.]])"
      ]
     },
     "execution_count": 19,
     "metadata": {},
     "output_type": "execute_result"
    }
   ],
   "source": [
    "import numpy as np\n",
    "np.zeros((3,4))"
   ]
  },
  {
   "cell_type": "code",
   "execution_count": 20,
   "metadata": {},
   "outputs": [],
   "source": [
    "# np.zeros((3, 4))\n",
    "\n",
    "# x[0][0] = 0 ; x[0][1] = 0 ; x[0][2] = 0 ; x[0][3] = 0\n",
    "# x[1][0] = 0 ; x[1][1] = 0 ; x[1][2] = 0 ; x[1][3] = 0\n",
    "# x[2][0] = 0 ; x[2][1] = 0 ; x[2][2] = 0 ; x[2][3] = 0\n",
    "\n",
    "# for i in range(3):\n",
    "#     for j in range(4):\n",
    "#         x[i][j] = 0"
   ]
  },
  {
   "cell_type": "code",
   "execution_count": 1,
   "metadata": {},
   "outputs": [
    {
     "data": {
      "text/plain": [
       "36"
      ]
     },
     "execution_count": 1,
     "metadata": {},
     "output_type": "execute_result"
    }
   ],
   "source": [
    "import numpy as np\n",
    "\n",
    "# 1번 사람 [x1, x2, x3]\n",
    "# 2번 사람 [x1, x2, x3]   x1을 몸무게, x2를 나이, x3을 수명이라고 가정\n",
    "\n",
    "x = np.array([ [22, 3, 4], [2, 2, 3] ]) \n",
    "y = np.array([100, 150]) # 1번사람의 혈압이 100, 2번사람의 혈압이 150일 떄\n",
    "w = np.array([3, 5, 8]) # x1의 w 값 3 / x2의 w 값 5 / x3의 w값 8\n",
    "\n",
    "# x * w = ( [22*3, 3*5, 4*8], [2*3, 2*5, 3*8])\n",
    "y1 = x*w\n",
    "\n",
    "for i in y1:\n",
    "    print(i)\n",
    "    print('-------------')\n",
    "np.sum(x) # = np.array(x).sum() # 36\n",
    "# type(x) # list\n",
    "# x.sum() Attribute Error"
   ]
  },
  {
   "cell_type": "code",
   "execution_count": 28,
   "metadata": {},
   "outputs": [
    {
     "data": {
      "text/plain": [
       "array([  13, -110])"
      ]
     },
     "execution_count": 28,
     "metadata": {},
     "output_type": "execute_result"
    }
   ],
   "source": [
    "y_hat = list()\n",
    "for i in y1:\n",
    "    y_hat.append(i.sum())\n",
    "\n",
    "y_hat - y  # 둘 중 하나라도 array라면 array로 계산된다."
   ]
  },
  {
   "cell_type": "code",
   "execution_count": 29,
   "metadata": {},
   "outputs": [
    {
     "name": "stdout",
     "output_type": "stream",
     "text": [
      "[113, 40]\n"
     ]
    }
   ],
   "source": [
    "y_hat = [i.sum() for i in y1]\n",
    "print(y_hat)"
   ]
  },
  {
   "cell_type": "code",
   "execution_count": null,
   "metadata": {},
   "outputs": [],
   "source": [
    "# NA 값\n",
    "# 입력되지 않은 값, 사칙연산 시 모든 값이 변해버림\n",
    "# 따라서 NA 값을 바꿔줘야 함"
   ]
  }
 ],
 "metadata": {
  "interpreter": {
   "hash": "e5bc2cf9d9a3d85fb4b9cf5c2acdd222f933ac2e5b2df75a3f82eb3e684a5541"
  },
  "kernelspec": {
   "display_name": "Python 3.10.2 64-bit",
   "language": "python",
   "name": "python3"
  },
  "language_info": {
   "codemirror_mode": {
    "name": "ipython",
    "version": 3
   },
   "file_extension": ".py",
   "mimetype": "text/x-python",
   "name": "python",
   "nbconvert_exporter": "python",
   "pygments_lexer": "ipython3",
   "version": "3.10.2"
  },
  "orig_nbformat": 4
 },
 "nbformat": 4,
 "nbformat_minor": 2
}
